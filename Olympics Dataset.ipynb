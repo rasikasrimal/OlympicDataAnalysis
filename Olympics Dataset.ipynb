{
 "cells": [
  {
   "cell_type": "markdown",
   "id": "afdfcf78-5c5a-424e-aa17-687f8e9a66e6",
   "metadata": {},
   "source": [
    "Olympics Dataset Analysis"
   ]
  },
  {
   "cell_type": "code",
   "execution_count": 1,
   "id": "c2c0eada-b92a-4d65-8da8-2335d6e3c8a6",
   "metadata": {},
   "outputs": [
    {
     "name": "stdout",
     "output_type": "stream",
     "text": [
      "Modules Imported\n"
     ]
    }
   ],
   "source": [
    "import pandas as pd\n",
    "print('Modules Imported')"
   ]
  },
  {
   "cell_type": "markdown",
   "id": "2fc75f38-9291-46b8-9a9f-2b504a3deda0",
   "metadata": {},
   "source": [
    "Importing dataset"
   ]
  },
  {
   "cell_type": "code",
   "execution_count": 8,
   "id": "7d394fa7-035a-4a6d-9bc5-1452469fcdd1",
   "metadata": {},
   "outputs": [
    {
     "name": "stdout",
     "output_type": "stream",
     "text": [
      "<class 'pandas.core.frame.DataFrame'>\n",
      "RangeIndex: 230 entries, 0 to 229\n",
      "Data columns (total 3 columns):\n",
      " #   Column  Non-Null Count  Dtype \n",
      "---  ------  --------------  ----- \n",
      " 0   NOC     230 non-null    object\n",
      " 1   region  227 non-null    object\n",
      " 2   notes   21 non-null     object\n",
      "dtypes: object(3)\n",
      "memory usage: 5.5+ KB\n"
     ]
    }
   ],
   "source": [
    "country_olympics = pd.read_csv(r'E:\\Coursera\\SQL for Data Science Capstone Project\\noc_regions.csv')\n",
    "country_olympics.info()"
   ]
  },
  {
   "cell_type": "code",
   "execution_count": null,
   "id": "32042aba-6d31-4c5f-a1b7-ae024c07aaf6",
   "metadata": {},
   "outputs": [],
   "source": []
  },
  {
   "cell_type": "code",
   "execution_count": null,
   "id": "c0bc3222-8003-4f0b-a538-0cd587645f31",
   "metadata": {},
   "outputs": [],
   "source": []
  },
  {
   "cell_type": "code",
   "execution_count": null,
   "id": "99c99579-c17f-462b-9c97-ea855eaa0023",
   "metadata": {},
   "outputs": [],
   "source": []
  }
 ],
 "metadata": {
  "kernelspec": {
   "display_name": "Python 3 (ipykernel)",
   "language": "python",
   "name": "python3"
  },
  "language_info": {
   "codemirror_mode": {
    "name": "ipython",
    "version": 3
   },
   "file_extension": ".py",
   "mimetype": "text/x-python",
   "name": "python",
   "nbconvert_exporter": "python",
   "pygments_lexer": "ipython3",
   "version": "3.9.13"
  }
 },
 "nbformat": 4,
 "nbformat_minor": 5
}
